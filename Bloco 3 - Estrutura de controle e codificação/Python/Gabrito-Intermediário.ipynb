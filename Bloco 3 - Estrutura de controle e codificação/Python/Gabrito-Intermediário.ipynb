{
 "cells": [
  {
   "cell_type": "markdown",
   "id": "74a60a8e",
   "metadata": {},
   "source": [
    "# 🧠 Desafios de Lógica em Python - Nível Iniciante\n",
    "\n",
    "Este notebook contém **8 desafios de lógica de programação** utilizando **Python**. Cada desafio está em uma célula separada e pode ser executado individualmente.\n",
    "\n",
    "Boa prática! ✨\n"
   ]
  },
  {
   "cell_type": "markdown",
   "id": "6ff73522",
   "metadata": {},
   "source": [
    "## Questão 1 - Checagem de Senha 🔐"
   ]
  },
  {
   "cell_type": "code",
   "execution_count": null,
   "id": "760de1c3",
   "metadata": {},
   "outputs": [],
   "source": [
    "senha = input(\"Digite a senha de acesso: \")\n",
    "if senha == \"python123\":\n",
    "    print(\"Acesso liberado!\")\n",
    "else:\n",
    "    print(\"Senha incorreta. Tente novamente.\")"
   ]
  },
  {
   "cell_type": "markdown",
   "id": "e0fb2c9b",
   "metadata": {},
   "source": [
    "## Questão 2 - Verificador de Meia-Entrada 🎬"
   ]
  },
  {
   "cell_type": "code",
   "execution_count": null,
   "id": "93815909",
   "metadata": {},
   "outputs": [],
   "source": [
    "idade = int(input(\"Digite sua idade: \"))\n",
    "if idade < 18 or idade > 60:\n",
    "    print(\"Você tem direito à meia-entrada.\")\n",
    "else:\n",
    "    print(\"Você deve pagar o valor integral.\")"
   ]
  },
  {
   "cell_type": "markdown",
   "id": "78661d45",
   "metadata": {},
   "source": [
    "## Questão 3 - Nome no Cartão de Acesso 🪪"
   ]
  },
  {
   "cell_type": "code",
   "execution_count": null,
   "id": "295d288a",
   "metadata": {},
   "outputs": [],
   "source": [
    "nome = input(\"Digite seu nome: \")\n",
    "if len(nome) > 10:\n",
    "    print(\"Nome muito longo para o cartão!\")\n",
    "else:\n",
    "    print(\"Nome válido para o cartão.\")"
   ]
  },
  {
   "cell_type": "markdown",
   "id": "de8bce89",
   "metadata": {},
   "source": [
    "## Questão 4 - Soma dos Números Pares 🔢"
   ]
  },
  {
   "cell_type": "code",
   "execution_count": null,
   "id": "af7abf45",
   "metadata": {},
   "outputs": [],
   "source": [
    "numeros = [1, 4, 7, 8, 10]\n",
    "soma_pares = 0\n",
    "for num in numeros:\n",
    "    if num % 2 == 0:\n",
    "        soma_pares += num\n",
    "print(\"A soma dos números pares é:\", soma_pares)"
   ]
  },
  {
   "cell_type": "markdown",
   "id": "44cbf242",
   "metadata": {},
   "source": [
    "## Questão 5 - Verificador de Senha Forte 🛡️"
   ]
  },
  {
   "cell_type": "code",
   "execution_count": null,
   "id": "39fcbcbc",
   "metadata": {},
   "outputs": [],
   "source": [
    "senha = input(\"Digite uma senha: \")\n",
    "tem_numero = any(char.isdigit() for char in senha)\n",
    "if len(senha) >= 8 and tem_numero:\n",
    "    print(\"Senha forte!\")\n",
    "else:\n",
    "    print(\"Senha fraca.\")"
   ]
  },
  {
   "cell_type": "markdown",
   "id": "4f7b5b95",
   "metadata": {},
   "source": [
    "## Questão 6 - Contagem Regressiva para o Evento ⏳"
   ]
  },
  {
   "cell_type": "code",
   "execution_count": null,
   "id": "e41672a9",
   "metadata": {},
   "outputs": [],
   "source": [
    "tempo = int(input(\"Digite o tempo para o evento (em segundos): \"))\n",
    "for i in range(tempo, 0, -1):\n",
    "    print(i)"
   ]
  },
  {
   "cell_type": "markdown",
   "id": "2e3e0527",
   "metadata": {},
   "source": [
    "## Questão 7 - Relatório de Compras 💰"
   ]
  },
  {
   "cell_type": "code",
   "execution_count": null,
   "id": "1e146ee2",
   "metadata": {},
   "outputs": [],
   "source": [
    "valores = []\n",
    "for i in range(3):\n",
    "    valor = float(input(f\"Digite o valor da compra {i+1}: \"))\n",
    "    valores.append(valor)\n",
    "print(\"Maior gasto:\", max(valores))\n",
    "print(\"Menor gasto:\", min(valores))\n",
    "print(\"Total gasto:\", sum(valores))"
   ]
  },
  {
   "cell_type": "markdown",
   "id": "61b9734c",
   "metadata": {},
   "source": [
    "## Questão 8 - Palavra Secreta: Letra por Letra 🎯"
   ]
  },
  {
   "cell_type": "code",
   "execution_count": null,
   "id": "cf41b97f",
   "metadata": {},
   "outputs": [],
   "source": [
    "palavra = input(\"Digite a palavra secreta: \")\n",
    "for i, letra in enumerate(palavra, 1):\n",
    "    print(f\"{i} - {letra}\")"
   ]
  }
 ],
 "metadata": {},
 "nbformat": 4,
 "nbformat_minor": 5
}
